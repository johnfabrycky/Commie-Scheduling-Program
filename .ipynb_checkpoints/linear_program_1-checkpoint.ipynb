{
 "cells": [
  {
   "cell_type": "code",
   "execution_count": 75,
   "metadata": {},
   "outputs": [],
   "source": [
    "import pandas as pd\n",
    "import numpy as np\n",
    "import pulp\n",
    "import time, datetime\n",
    "import json"
   ]
  },
  {
   "cell_type": "code",
   "execution_count": 76,
   "metadata": {},
   "outputs": [
    {
     "data": {
      "text/html": [
       "<div>\n",
       "<style scoped>\n",
       "    .dataframe tbody tr th:only-of-type {\n",
       "        vertical-align: middle;\n",
       "    }\n",
       "\n",
       "    .dataframe tbody tr th {\n",
       "        vertical-align: top;\n",
       "    }\n",
       "\n",
       "    .dataframe thead th {\n",
       "        text-align: right;\n",
       "    }\n",
       "</style>\n",
       "<table border=\"1\" class=\"dataframe\">\n",
       "  <thead>\n",
       "    <tr style=\"text-align: right;\">\n",
       "      <th></th>\n",
       "      <th>Timestamp</th>\n",
       "      <th>Name (First, Last)</th>\n",
       "      <th>Year In School</th>\n",
       "      <th>Are you able to do a MONDAY Lunch Prep (LP) from 11am-12:05pm?</th>\n",
       "      <th>Are you able to do a MONDAY Lunch Cleanup (LC) from 12:30pm-1:30pm?</th>\n",
       "      <th>Are you able to do a MONDAY Dinner Prep (DP) from 3:30pm-5:30pm?*</th>\n",
       "      <th>Are you able to do a MONDAY Dinner Cleanup (DC) from 7pm-8pm?</th>\n",
       "      <th>Are you able to do a TUESDAY LP from 11am-12:05pm?</th>\n",
       "      <th>Are you able to do a TUESDAY LC from 12:30pm-1:30pm?</th>\n",
       "      <th>Are you able to do a TUESDAY DP from 3:30pm-5:30pm?</th>\n",
       "      <th>Are you able to do a TUESDAY DC from 6pm-7pm?</th>\n",
       "      <th>Are you able to do a WEDNESDAY LP from 11am-12:05pm?</th>\n",
       "      <th>Are you able to do a WEDNESDAY LC from 12:30pm-1:30pm?</th>\n",
       "      <th>Are you able to do a WEDNESDAY DP from 3:30pm-5:30pm?</th>\n",
       "      <th>Are you able to do a WEDNESDAY DC from 6pm-7pm?</th>\n",
       "      <th>Are you able to do a THURSDAY LP from 11am-12:05pm?</th>\n",
       "      <th>Are you able to do a THURSDAY LC from 12:30pm-1:30pm?</th>\n",
       "      <th>Are you able to do a THURSDAY DP from 3:30pm-5:30pm?</th>\n",
       "      <th>Are you able to do a THURSDAY DC from 6pm-7pm?</th>\n",
       "      <th>Are you able to do a FRIDAY LP from 11am-12:05pm?</th>\n",
       "      <th>Are you able to do a FRIDAY LC from 12:30pm-1:30pm?</th>\n",
       "      <th>Are you able to do a FRIDAY DP from 3:30pm-5:30pm?</th>\n",
       "      <th>Are you able to do a FRIDAY DC from 6pm-7pm?</th>\n",
       "      <th>Are you able to do a SATURDAY LP from 11am-12:05pm?</th>\n",
       "      <th>Are you able to do a SATURDAY LC from 12:30pm-1:30pm?</th>\n",
       "      <th>Friday Food Delivery Help (THIS WILL COUNT AS 2 HOURS)\\n\\nYou would need to be available from about 9:00-12:30 (because the truck doesn't always come at the same time each week) every Friday to help unload and distribute food from the food truck to the two houses</th>\n",
       "      <th>Bathroom Cleaning\\n\\nAre you open to cleaning bathrooms to fulfill some of your cooperative hours?</th>\n",
       "      <th>How would you rate your cooking ability?</th>\n",
       "    </tr>\n",
       "  </thead>\n",
       "  <tbody>\n",
       "    <tr>\n",
       "      <th>0</th>\n",
       "      <td>8/8/2025 17:41:07</td>\n",
       "      <td>John Fabrycky</td>\n",
       "      <td>Junior</td>\n",
       "      <td>No</td>\n",
       "      <td>No</td>\n",
       "      <td>Yes</td>\n",
       "      <td>Prefer not</td>\n",
       "      <td>No</td>\n",
       "      <td>No</td>\n",
       "      <td>Yes</td>\n",
       "      <td>Yes</td>\n",
       "      <td>No</td>\n",
       "      <td>No</td>\n",
       "      <td>No</td>\n",
       "      <td>Yes</td>\n",
       "      <td>No</td>\n",
       "      <td>No</td>\n",
       "      <td>No</td>\n",
       "      <td>Yes</td>\n",
       "      <td>No</td>\n",
       "      <td>No</td>\n",
       "      <td>No</td>\n",
       "      <td>Yes</td>\n",
       "      <td>Prefer not</td>\n",
       "      <td>Prefer not</td>\n",
       "      <td>No</td>\n",
       "      <td>Open to it if nobody else wants to</td>\n",
       "      <td>4</td>\n",
       "    </tr>\n",
       "  </tbody>\n",
       "</table>\n",
       "</div>"
      ],
      "text/plain": [
       "           Timestamp Name (First, Last) Year In School  \\\n",
       "0  8/8/2025 17:41:07      John Fabrycky         Junior   \n",
       "\n",
       "  Are you able to do a MONDAY Lunch Prep (LP) from 11am-12:05pm?  \\\n",
       "0                                                 No               \n",
       "\n",
       "  Are you able to do a MONDAY Lunch Cleanup (LC) from 12:30pm-1:30pm?  \\\n",
       "0                                                 No                    \n",
       "\n",
       "  Are you able to do a MONDAY Dinner Prep (DP) from 3:30pm-5:30pm?*  \\\n",
       "0                                                Yes                  \n",
       "\n",
       "  Are you able to do a MONDAY Dinner Cleanup (DC) from 7pm-8pm?  \\\n",
       "0                                         Prefer not              \n",
       "\n",
       "  Are you able to do a TUESDAY LP from 11am-12:05pm?  \\\n",
       "0                                                 No   \n",
       "\n",
       "  Are you able to do a TUESDAY LC from 12:30pm-1:30pm?  \\\n",
       "0                                                 No     \n",
       "\n",
       "  Are you able to do a TUESDAY DP from 3:30pm-5:30pm?  \\\n",
       "0                                                Yes    \n",
       "\n",
       "  Are you able to do a TUESDAY DC from 6pm-7pm?  \\\n",
       "0                                           Yes   \n",
       "\n",
       "  Are you able to do a WEDNESDAY LP from 11am-12:05pm?  \\\n",
       "0                                                 No     \n",
       "\n",
       "  Are you able to do a WEDNESDAY LC from 12:30pm-1:30pm?  \\\n",
       "0                                                 No       \n",
       "\n",
       "  Are you able to do a WEDNESDAY DP from 3:30pm-5:30pm?  \\\n",
       "0                                                 No      \n",
       "\n",
       "  Are you able to do a WEDNESDAY DC from 6pm-7pm?  \\\n",
       "0                                             Yes   \n",
       "\n",
       "  Are you able to do a THURSDAY LP from 11am-12:05pm?  \\\n",
       "0                                                 No    \n",
       "\n",
       "  Are you able to do a THURSDAY LC from 12:30pm-1:30pm?  \\\n",
       "0                                                 No      \n",
       "\n",
       "  Are you able to do a THURSDAY DP from 3:30pm-5:30pm?  \\\n",
       "0                                                 No     \n",
       "\n",
       "  Are you able to do a THURSDAY DC from 6pm-7pm?  \\\n",
       "0                                            Yes   \n",
       "\n",
       "  Are you able to do a FRIDAY LP from 11am-12:05pm?  \\\n",
       "0                                                No   \n",
       "\n",
       "  Are you able to do a FRIDAY LC from 12:30pm-1:30pm?  \\\n",
       "0                                                 No    \n",
       "\n",
       "  Are you able to do a FRIDAY DP from 3:30pm-5:30pm?  \\\n",
       "0                                                 No   \n",
       "\n",
       "  Are you able to do a FRIDAY DC from 6pm-7pm?  \\\n",
       "0                                          Yes   \n",
       "\n",
       "  Are you able to do a SATURDAY LP from 11am-12:05pm?  \\\n",
       "0                                         Prefer not    \n",
       "\n",
       "  Are you able to do a SATURDAY LC from 12:30pm-1:30pm?  \\\n",
       "0                                         Prefer not      \n",
       "\n",
       "  Friday Food Delivery Help (THIS WILL COUNT AS 2 HOURS)\\n\\nYou would need to be available from about 9:00-12:30 (because the truck doesn't always come at the same time each week) every Friday to help unload and distribute food from the food truck to the two houses  \\\n",
       "0                                                 No                                                                                                                                                                                                                        \n",
       "\n",
       "  Bathroom Cleaning\\n\\nAre you open to cleaning bathrooms to fulfill some of your cooperative hours?  \\\n",
       "0                 Open to it if nobody else wants to                                                   \n",
       "\n",
       "   How would you rate your cooking ability?  \n",
       "0                                         4  "
      ]
     },
     "execution_count": 76,
     "metadata": {},
     "output_type": "execute_result"
    }
   ],
   "source": [
    "df = pd.read_csv(\"Data/Koinonia House Availabilities Survey - Fall 2025 (Responses) - Form Responses Fall 2025.csv\")\n",
    "df.head(3)"
   ]
  },
  {
   "cell_type": "markdown",
   "metadata": {},
   "source": [
    "### Data Cleaning"
   ]
  },
  {
   "cell_type": "code",
   "execution_count": 77,
   "metadata": {},
   "outputs": [
    {
     "data": {
      "text/plain": [
       "Index(['Timestamp', 'Name (First, Last)', 'Year In School',\n",
       "       'Are you able to do a MONDAY Lunch Prep (LP) from 11am-12:05pm?',\n",
       "       'Are you able to do a MONDAY Lunch Cleanup (LC) from 12:30pm-1:30pm?',\n",
       "       'Are you able to do a MONDAY Dinner Prep (DP) from 3:30pm-5:30pm?*',\n",
       "       'Are you able to do a MONDAY Dinner Cleanup (DC) from 7pm-8pm?',\n",
       "       'Are you able to do a TUESDAY LP from 11am-12:05pm?',\n",
       "       'Are you able to do a TUESDAY LC from 12:30pm-1:30pm?',\n",
       "       'Are you able to do a TUESDAY DP from 3:30pm-5:30pm?',\n",
       "       'Are you able to do a TUESDAY DC from 6pm-7pm?',\n",
       "       'Are you able to do a WEDNESDAY LP from 11am-12:05pm?',\n",
       "       'Are you able to do a WEDNESDAY LC from 12:30pm-1:30pm?',\n",
       "       'Are you able to do a WEDNESDAY DP from 3:30pm-5:30pm?',\n",
       "       'Are you able to do a WEDNESDAY DC from 6pm-7pm?',\n",
       "       'Are you able to do a THURSDAY LP from 11am-12:05pm?',\n",
       "       'Are you able to do a THURSDAY LC from 12:30pm-1:30pm?',\n",
       "       'Are you able to do a THURSDAY DP from 3:30pm-5:30pm?',\n",
       "       'Are you able to do a THURSDAY DC from 6pm-7pm?',\n",
       "       'Are you able to do a FRIDAY LP from 11am-12:05pm?',\n",
       "       'Are you able to do a FRIDAY LC from 12:30pm-1:30pm?',\n",
       "       'Are you able to do a FRIDAY DP from 3:30pm-5:30pm?',\n",
       "       'Are you able to do a FRIDAY DC from 6pm-7pm?',\n",
       "       'Are you able to do a SATURDAY LP from 11am-12:05pm?',\n",
       "       'Are you able to do a SATURDAY LC from 12:30pm-1:30pm?',\n",
       "       'Friday Food Delivery Help (THIS WILL COUNT AS 2 HOURS)\\n\\nYou would need to be available from about 9:00-12:30 (because the truck doesn't always come at the same time each week) every Friday to help unload and distribute food from the food truck to the two houses',\n",
       "       'Bathroom Cleaning\\n\\nAre you open to cleaning bathrooms to fulfill some of your cooperative hours?',\n",
       "       'How would you rate your cooking ability?'],\n",
       "      dtype='object')"
      ]
     },
     "execution_count": 77,
     "metadata": {},
     "output_type": "execute_result"
    }
   ],
   "source": [
    "df.columns"
   ]
  },
  {
   "cell_type": "code",
   "execution_count": 78,
   "metadata": {},
   "outputs": [
    {
     "data": {
      "text/html": [
       "<div>\n",
       "<style scoped>\n",
       "    .dataframe tbody tr th:only-of-type {\n",
       "        vertical-align: middle;\n",
       "    }\n",
       "\n",
       "    .dataframe tbody tr th {\n",
       "        vertical-align: top;\n",
       "    }\n",
       "\n",
       "    .dataframe thead th {\n",
       "        text-align: right;\n",
       "    }\n",
       "</style>\n",
       "<table border=\"1\" class=\"dataframe\">\n",
       "  <thead>\n",
       "    <tr style=\"text-align: right;\">\n",
       "      <th></th>\n",
       "      <th>timestamp</th>\n",
       "      <th>name</th>\n",
       "      <th>year_in_school</th>\n",
       "      <th>monday_lunch_prep</th>\n",
       "      <th>monday_lunch_clean</th>\n",
       "      <th>monday_dinner_prep</th>\n",
       "      <th>monday_dinner_clean</th>\n",
       "      <th>tuesday_lunch_prep</th>\n",
       "      <th>tuesday_lunch_clean</th>\n",
       "      <th>tuesday_dinner_prep</th>\n",
       "      <th>tuesday_dinner_clean</th>\n",
       "      <th>wednesday_lunch_prep</th>\n",
       "      <th>wednesday_lunch_clean</th>\n",
       "      <th>wednesday_dinner_prep</th>\n",
       "      <th>wednesday_dinner_clean</th>\n",
       "      <th>thursday_lunch_prep</th>\n",
       "      <th>thursday_lunch_clean</th>\n",
       "      <th>thursday_dinner_prep</th>\n",
       "      <th>thursday_dinner_clean</th>\n",
       "      <th>friday_lunch_prep</th>\n",
       "      <th>friday_lunch_clean</th>\n",
       "      <th>friday_dinner_prep</th>\n",
       "      <th>friday_dinner_clean</th>\n",
       "      <th>saturday_lunch_prep</th>\n",
       "      <th>saturday_lunch_clean</th>\n",
       "      <th>food_truck</th>\n",
       "      <th>bathroom_cleaning</th>\n",
       "      <th>cooking_ability</th>\n",
       "    </tr>\n",
       "  </thead>\n",
       "  <tbody>\n",
       "    <tr>\n",
       "      <th>0</th>\n",
       "      <td>8/8/2025 17:41:07</td>\n",
       "      <td>John Fabrycky</td>\n",
       "      <td>Junior</td>\n",
       "      <td>No</td>\n",
       "      <td>No</td>\n",
       "      <td>Yes</td>\n",
       "      <td>Prefer not</td>\n",
       "      <td>No</td>\n",
       "      <td>No</td>\n",
       "      <td>Yes</td>\n",
       "      <td>Yes</td>\n",
       "      <td>No</td>\n",
       "      <td>No</td>\n",
       "      <td>No</td>\n",
       "      <td>Yes</td>\n",
       "      <td>No</td>\n",
       "      <td>No</td>\n",
       "      <td>No</td>\n",
       "      <td>Yes</td>\n",
       "      <td>No</td>\n",
       "      <td>No</td>\n",
       "      <td>No</td>\n",
       "      <td>Yes</td>\n",
       "      <td>Prefer not</td>\n",
       "      <td>Prefer not</td>\n",
       "      <td>No</td>\n",
       "      <td>Open to it if nobody else wants to</td>\n",
       "      <td>4</td>\n",
       "    </tr>\n",
       "  </tbody>\n",
       "</table>\n",
       "</div>"
      ],
      "text/plain": [
       "           timestamp           name year_in_school monday_lunch_prep  \\\n",
       "0  8/8/2025 17:41:07  John Fabrycky         Junior                No   \n",
       "\n",
       "  monday_lunch_clean monday_dinner_prep monday_dinner_clean  \\\n",
       "0                 No                Yes          Prefer not   \n",
       "\n",
       "  tuesday_lunch_prep tuesday_lunch_clean tuesday_dinner_prep  \\\n",
       "0                 No                  No                 Yes   \n",
       "\n",
       "  tuesday_dinner_clean wednesday_lunch_prep wednesday_lunch_clean  \\\n",
       "0                  Yes                   No                    No   \n",
       "\n",
       "  wednesday_dinner_prep wednesday_dinner_clean thursday_lunch_prep  \\\n",
       "0                    No                    Yes                  No   \n",
       "\n",
       "  thursday_lunch_clean thursday_dinner_prep thursday_dinner_clean  \\\n",
       "0                   No                   No                   Yes   \n",
       "\n",
       "  friday_lunch_prep friday_lunch_clean friday_dinner_prep friday_dinner_clean  \\\n",
       "0                No                 No                 No                 Yes   \n",
       "\n",
       "  saturday_lunch_prep saturday_lunch_clean food_truck  \\\n",
       "0          Prefer not           Prefer not         No   \n",
       "\n",
       "                    bathroom_cleaning  cooking_ability  \n",
       "0  Open to it if nobody else wants to                4  "
      ]
     },
     "execution_count": 78,
     "metadata": {},
     "output_type": "execute_result"
    }
   ],
   "source": [
    "column_renaming = {\n",
    "    df.columns[0]: \"timestamp\",\n",
    "    df.columns[1]: \"name\",\n",
    "    df.columns[2]: \"year_in_school\",\n",
    "    df.columns[3]: \"monday_lunch_prep\",\n",
    "    df.columns[4]: \"monday_lunch_clean\",\n",
    "    df.columns[5]: \"monday_dinner_prep\",\n",
    "    df.columns[6]: \"monday_dinner_clean\",\n",
    "    df.columns[7]: \"tuesday_lunch_prep\",\n",
    "    df.columns[8]: \"tuesday_lunch_clean\",\n",
    "    df.columns[9]: \"tuesday_dinner_prep\",\n",
    "    df.columns[10]: \"tuesday_dinner_clean\",\n",
    "    df.columns[11]: \"wednesday_lunch_prep\",\n",
    "    df.columns[12]: \"wednesday_lunch_clean\",\n",
    "    df.columns[13]: \"wednesday_dinner_prep\",\n",
    "    df.columns[14]: \"wednesday_dinner_clean\",\n",
    "    df.columns[15]: \"thursday_lunch_prep\",\n",
    "    df.columns[16]: \"thursday_lunch_clean\",\n",
    "    df.columns[17]: \"thursday_dinner_prep\",\n",
    "    df.columns[18]: \"thursday_dinner_clean\",\n",
    "    df.columns[19]: \"friday_lunch_prep\",\n",
    "    df.columns[20]: \"friday_lunch_clean\",\n",
    "    df.columns[21]: \"friday_dinner_prep\",\n",
    "    df.columns[22]: \"friday_dinner_clean\",\n",
    "    df.columns[23]: \"saturday_lunch_prep\",\n",
    "    df.columns[24]: \"saturday_lunch_clean\",\n",
    "    df.columns[25]: \"food_truck\",\n",
    "    df.columns[26]: \"bathroom_cleaning\",\n",
    "    df.columns[27]: \"cooking_ability\"\n",
    "}\n",
    "\n",
    "df.rename(columns=column_renaming, inplace=True)\n",
    "df.head(3)"
   ]
  },
  {
   "cell_type": "code",
   "execution_count": 80,
   "metadata": {},
   "outputs": [],
   "source": [
    "df.insert(\n",
    "    len(df.columns) - 1,\n",
    "    'bathroom_cleaning_shift_1',\n",
    "    df['bathroom_cleaning'].apply(\n",
    "        lambda x: \"Yes\" if x in [\n",
    "            \"Yes, would love to, for both hours!\",\n",
    "            \"Yes, would like to, for one of the hours.\"\n",
    "        ] else (\"Prefer not\" if x == \"Open to it if nobody else wants to\" \n",
    "                else \"No\")\n",
    "    )\n",
    ")\n",
    "\n",
    "df.insert(\n",
    "    len(df.columns) - 1,\n",
    "    'bathroom_cleaning_shift_2',\n",
    "    df['bathroom_cleaning'].apply(\n",
    "        lambda x: \"Yes\" if x in [\n",
    "            \"Yes, would love to, for both hours!\",\n",
    "        ] else (\"Prefer not\" if x == \"Open to it if nobody else wants to\"\n",
    "                or x == \"Yes, would like to, for one of the hours.\"\n",
    "                else \"No\")\n",
    "    )\n",
    ")"
   ]
  },
  {
   "cell_type": "code",
   "execution_count": 81,
   "metadata": {},
   "outputs": [
    {
     "data": {
      "text/plain": [
       "timestamp                    0\n",
       "name                         0\n",
       "year_in_school               0\n",
       "monday_lunch_prep            0\n",
       "monday_lunch_clean           0\n",
       "monday_dinner_prep           0\n",
       "monday_dinner_clean          0\n",
       "tuesday_lunch_prep           0\n",
       "tuesday_lunch_clean          0\n",
       "tuesday_dinner_prep          0\n",
       "tuesday_dinner_clean         0\n",
       "wednesday_lunch_prep         0\n",
       "wednesday_lunch_clean        0\n",
       "wednesday_dinner_prep        0\n",
       "wednesday_dinner_clean       0\n",
       "thursday_lunch_prep          0\n",
       "thursday_lunch_clean         0\n",
       "thursday_dinner_prep         0\n",
       "thursday_dinner_clean        0\n",
       "friday_lunch_prep            0\n",
       "friday_lunch_clean           0\n",
       "friday_dinner_prep           0\n",
       "friday_dinner_clean          0\n",
       "saturday_lunch_prep          0\n",
       "saturday_lunch_clean         0\n",
       "food_truck                   0\n",
       "bathroom_cleaning            0\n",
       "bathroom_cleaning_shift_1    0\n",
       "bathroom_cleaning_shift_2    0\n",
       "cooking_ability              0\n",
       "dtype: int64"
      ]
     },
     "execution_count": 81,
     "metadata": {},
     "output_type": "execute_result"
    }
   ],
   "source": [
    "df.isna().sum()"
   ]
  },
  {
   "cell_type": "code",
   "execution_count": 82,
   "metadata": {},
   "outputs": [
    {
     "data": {
      "text/html": [
       "<div>\n",
       "<style scoped>\n",
       "    .dataframe tbody tr th:only-of-type {\n",
       "        vertical-align: middle;\n",
       "    }\n",
       "\n",
       "    .dataframe tbody tr th {\n",
       "        vertical-align: top;\n",
       "    }\n",
       "\n",
       "    .dataframe thead th {\n",
       "        text-align: right;\n",
       "    }\n",
       "</style>\n",
       "<table border=\"1\" class=\"dataframe\">\n",
       "  <thead>\n",
       "    <tr style=\"text-align: right;\">\n",
       "      <th></th>\n",
       "      <th>timestamp</th>\n",
       "      <th>name</th>\n",
       "      <th>year_in_school</th>\n",
       "      <th>monday_lunch_prep</th>\n",
       "      <th>monday_lunch_clean</th>\n",
       "      <th>monday_dinner_prep</th>\n",
       "      <th>monday_dinner_clean</th>\n",
       "      <th>tuesday_lunch_prep</th>\n",
       "      <th>tuesday_lunch_clean</th>\n",
       "      <th>tuesday_dinner_prep</th>\n",
       "      <th>tuesday_dinner_clean</th>\n",
       "      <th>wednesday_lunch_prep</th>\n",
       "      <th>wednesday_lunch_clean</th>\n",
       "      <th>wednesday_dinner_prep</th>\n",
       "      <th>wednesday_dinner_clean</th>\n",
       "      <th>thursday_lunch_prep</th>\n",
       "      <th>thursday_lunch_clean</th>\n",
       "      <th>thursday_dinner_prep</th>\n",
       "      <th>thursday_dinner_clean</th>\n",
       "      <th>friday_lunch_prep</th>\n",
       "      <th>friday_lunch_clean</th>\n",
       "      <th>friday_dinner_prep</th>\n",
       "      <th>friday_dinner_clean</th>\n",
       "      <th>saturday_lunch_prep</th>\n",
       "      <th>saturday_lunch_clean</th>\n",
       "      <th>food_truck</th>\n",
       "      <th>bathroom_cleaning</th>\n",
       "      <th>bathroom_cleaning_shift_1</th>\n",
       "      <th>bathroom_cleaning_shift_2</th>\n",
       "      <th>cooking_ability</th>\n",
       "    </tr>\n",
       "  </thead>\n",
       "  <tbody>\n",
       "  </tbody>\n",
       "</table>\n",
       "</div>"
      ],
      "text/plain": [
       "Empty DataFrame\n",
       "Columns: [timestamp, name, year_in_school, monday_lunch_prep, monday_lunch_clean, monday_dinner_prep, monday_dinner_clean, tuesday_lunch_prep, tuesday_lunch_clean, tuesday_dinner_prep, tuesday_dinner_clean, wednesday_lunch_prep, wednesday_lunch_clean, wednesday_dinner_prep, wednesday_dinner_clean, thursday_lunch_prep, thursday_lunch_clean, thursday_dinner_prep, thursday_dinner_clean, friday_lunch_prep, friday_lunch_clean, friday_dinner_prep, friday_dinner_clean, saturday_lunch_prep, saturday_lunch_clean, food_truck, bathroom_cleaning, bathroom_cleaning_shift_1, bathroom_cleaning_shift_2, cooking_ability]\n",
       "Index: []"
      ]
     },
     "execution_count": 82,
     "metadata": {},
     "output_type": "execute_result"
    }
   ],
   "source": [
    "df[df.isnull().any(axis=1)]"
   ]
  },
  {
   "cell_type": "code",
   "execution_count": 83,
   "metadata": {},
   "outputs": [],
   "source": [
    "df['id'] = np.arange(0,df.shape[0],1)"
   ]
  },
  {
   "cell_type": "code",
   "execution_count": 84,
   "metadata": {},
   "outputs": [
    {
     "data": {
      "text/html": [
       "<div>\n",
       "<style scoped>\n",
       "    .dataframe tbody tr th:only-of-type {\n",
       "        vertical-align: middle;\n",
       "    }\n",
       "\n",
       "    .dataframe tbody tr th {\n",
       "        vertical-align: top;\n",
       "    }\n",
       "\n",
       "    .dataframe thead th {\n",
       "        text-align: right;\n",
       "    }\n",
       "</style>\n",
       "<table border=\"1\" class=\"dataframe\">\n",
       "  <thead>\n",
       "    <tr style=\"text-align: right;\">\n",
       "      <th></th>\n",
       "      <th>timestamp</th>\n",
       "      <th>name</th>\n",
       "      <th>year_in_school</th>\n",
       "      <th>monday_lunch_prep</th>\n",
       "      <th>monday_lunch_clean</th>\n",
       "      <th>monday_dinner_prep</th>\n",
       "      <th>monday_dinner_clean</th>\n",
       "      <th>tuesday_lunch_prep</th>\n",
       "      <th>tuesday_lunch_clean</th>\n",
       "      <th>tuesday_dinner_prep</th>\n",
       "      <th>tuesday_dinner_clean</th>\n",
       "      <th>wednesday_lunch_prep</th>\n",
       "      <th>wednesday_lunch_clean</th>\n",
       "      <th>wednesday_dinner_prep</th>\n",
       "      <th>wednesday_dinner_clean</th>\n",
       "      <th>thursday_lunch_prep</th>\n",
       "      <th>thursday_lunch_clean</th>\n",
       "      <th>thursday_dinner_prep</th>\n",
       "      <th>thursday_dinner_clean</th>\n",
       "      <th>friday_lunch_prep</th>\n",
       "      <th>friday_lunch_clean</th>\n",
       "      <th>friday_dinner_prep</th>\n",
       "      <th>friday_dinner_clean</th>\n",
       "      <th>saturday_lunch_prep</th>\n",
       "      <th>saturday_lunch_clean</th>\n",
       "      <th>food_truck</th>\n",
       "      <th>bathroom_cleaning</th>\n",
       "      <th>bathroom_cleaning_shift_1</th>\n",
       "      <th>bathroom_cleaning_shift_2</th>\n",
       "      <th>cooking_ability</th>\n",
       "      <th>id</th>\n",
       "    </tr>\n",
       "  </thead>\n",
       "  <tbody>\n",
       "    <tr>\n",
       "      <th>0</th>\n",
       "      <td>8/8/2025 17:41:07</td>\n",
       "      <td>John Fabrycky</td>\n",
       "      <td>Junior</td>\n",
       "      <td>No</td>\n",
       "      <td>No</td>\n",
       "      <td>Yes</td>\n",
       "      <td>Prefer not</td>\n",
       "      <td>No</td>\n",
       "      <td>No</td>\n",
       "      <td>Yes</td>\n",
       "      <td>Yes</td>\n",
       "      <td>No</td>\n",
       "      <td>No</td>\n",
       "      <td>No</td>\n",
       "      <td>Yes</td>\n",
       "      <td>No</td>\n",
       "      <td>No</td>\n",
       "      <td>No</td>\n",
       "      <td>Yes</td>\n",
       "      <td>No</td>\n",
       "      <td>No</td>\n",
       "      <td>No</td>\n",
       "      <td>Yes</td>\n",
       "      <td>Prefer not</td>\n",
       "      <td>Prefer not</td>\n",
       "      <td>No</td>\n",
       "      <td>Open to it if nobody else wants to</td>\n",
       "      <td>Prefer not</td>\n",
       "      <td>Prefer not</td>\n",
       "      <td>4</td>\n",
       "      <td>0</td>\n",
       "    </tr>\n",
       "  </tbody>\n",
       "</table>\n",
       "</div>"
      ],
      "text/plain": [
       "           timestamp           name year_in_school monday_lunch_prep  \\\n",
       "0  8/8/2025 17:41:07  John Fabrycky         Junior                No   \n",
       "\n",
       "  monday_lunch_clean monday_dinner_prep monday_dinner_clean  \\\n",
       "0                 No                Yes          Prefer not   \n",
       "\n",
       "  tuesday_lunch_prep tuesday_lunch_clean tuesday_dinner_prep  \\\n",
       "0                 No                  No                 Yes   \n",
       "\n",
       "  tuesday_dinner_clean wednesday_lunch_prep wednesday_lunch_clean  \\\n",
       "0                  Yes                   No                    No   \n",
       "\n",
       "  wednesday_dinner_prep wednesday_dinner_clean thursday_lunch_prep  \\\n",
       "0                    No                    Yes                  No   \n",
       "\n",
       "  thursday_lunch_clean thursday_dinner_prep thursday_dinner_clean  \\\n",
       "0                   No                   No                   Yes   \n",
       "\n",
       "  friday_lunch_prep friday_lunch_clean friday_dinner_prep friday_dinner_clean  \\\n",
       "0                No                 No                 No                 Yes   \n",
       "\n",
       "  saturday_lunch_prep saturday_lunch_clean food_truck  \\\n",
       "0          Prefer not           Prefer not         No   \n",
       "\n",
       "                    bathroom_cleaning bathroom_cleaning_shift_1  \\\n",
       "0  Open to it if nobody else wants to                Prefer not   \n",
       "\n",
       "  bathroom_cleaning_shift_2  cooking_ability  id  \n",
       "0                Prefer not                4   0  "
      ]
     },
     "execution_count": 84,
     "metadata": {},
     "output_type": "execute_result"
    }
   ],
   "source": [
    "df"
   ]
  },
  {
   "cell_type": "markdown",
   "metadata": {},
   "source": [
    "### Feature Modification"
   ]
  },
  {
   "cell_type": "code",
   "execution_count": 86,
   "metadata": {},
   "outputs": [
    {
     "data": {
      "text/html": [
       "<div>\n",
       "<style scoped>\n",
       "    .dataframe tbody tr th:only-of-type {\n",
       "        vertical-align: middle;\n",
       "    }\n",
       "\n",
       "    .dataframe tbody tr th {\n",
       "        vertical-align: top;\n",
       "    }\n",
       "\n",
       "    .dataframe thead th {\n",
       "        text-align: right;\n",
       "    }\n",
       "</style>\n",
       "<table border=\"1\" class=\"dataframe\">\n",
       "  <thead>\n",
       "    <tr style=\"text-align: right;\">\n",
       "      <th></th>\n",
       "      <th>name</th>\n",
       "      <th>id</th>\n",
       "      <th>year_in_school</th>\n",
       "    </tr>\n",
       "  </thead>\n",
       "  <tbody>\n",
       "    <tr>\n",
       "      <th>0</th>\n",
       "      <td>John Fabrycky</td>\n",
       "      <td>0</td>\n",
       "      <td>Junior</td>\n",
       "    </tr>\n",
       "  </tbody>\n",
       "</table>\n",
       "</div>"
      ],
      "text/plain": [
       "            name  id year_in_school\n",
       "0  John Fabrycky   0         Junior"
      ]
     },
     "execution_count": 86,
     "metadata": {},
     "output_type": "execute_result"
    }
   ],
   "source": [
    "df_availablility = df.iloc[:,[1,-1,2]]\n",
    "df_preference = df.iloc[:,[1,-1,2]]\n",
    "df_availablility"
   ]
  },
  {
   "cell_type": "code",
   "execution_count": 87,
   "metadata": {
    "scrolled": true
   },
   "outputs": [
    {
     "data": {
      "text/plain": [
       "['monday_lunch_prep',\n",
       " 'monday_lunch_clean',\n",
       " 'monday_dinner_prep',\n",
       " 'monday_dinner_clean',\n",
       " 'tuesday_lunch_prep',\n",
       " 'tuesday_lunch_clean',\n",
       " 'tuesday_dinner_prep',\n",
       " 'tuesday_dinner_clean',\n",
       " 'wednesday_lunch_prep',\n",
       " 'wednesday_lunch_clean',\n",
       " 'wednesday_dinner_prep',\n",
       " 'wednesday_dinner_clean',\n",
       " 'thursday_lunch_prep',\n",
       " 'thursday_lunch_clean',\n",
       " 'thursday_dinner_prep',\n",
       " 'thursday_dinner_clean',\n",
       " 'friday_lunch_prep',\n",
       " 'friday_lunch_clean',\n",
       " 'friday_dinner_prep',\n",
       " 'friday_dinner_clean',\n",
       " 'saturday_lunch_prep',\n",
       " 'saturday_lunch_clean',\n",
       " 'food_truck',\n",
       " 'bathroom_cleaning',\n",
       " 'bathroom_cleaning_shift_1',\n",
       " 'bathroom_cleaning_shift_2',\n",
       " 'cooking_ability',\n",
       " 'id']"
      ]
     },
     "execution_count": 87,
     "metadata": {},
     "output_type": "execute_result"
    }
   ],
   "source": [
    "shift_cols = list(df.columns[3:df.shape[1]])\n",
    "shift_cols"
   ]
  },
  {
   "cell_type": "code",
   "execution_count": 88,
   "metadata": {},
   "outputs": [],
   "source": [
    "import warnings\n",
    "warnings.simplefilter(action=\"ignore\", category=pd.errors.SettingWithCopyWarning)\n",
    "\n",
    "for col in shift_cols:\n",
    "    df_availablility[col] = df[col].apply(lambda x: 0 if x == \"No\" else 1)\n",
    "    df_preference[col] = df[col].apply(lambda x: 1 if x == \"Yes\" else 0)"
   ]
  },
  {
   "cell_type": "code",
   "execution_count": 90,
   "metadata": {},
   "outputs": [
    {
     "data": {
      "text/html": [
       "<div>\n",
       "<style scoped>\n",
       "    .dataframe tbody tr th:only-of-type {\n",
       "        vertical-align: middle;\n",
       "    }\n",
       "\n",
       "    .dataframe tbody tr th {\n",
       "        vertical-align: top;\n",
       "    }\n",
       "\n",
       "    .dataframe thead th {\n",
       "        text-align: right;\n",
       "    }\n",
       "</style>\n",
       "<table border=\"1\" class=\"dataframe\">\n",
       "  <thead>\n",
       "    <tr style=\"text-align: right;\">\n",
       "      <th></th>\n",
       "      <th>name</th>\n",
       "      <th>id</th>\n",
       "      <th>year_in_school</th>\n",
       "      <th>monday_lunch_prep</th>\n",
       "      <th>monday_lunch_clean</th>\n",
       "      <th>monday_dinner_prep</th>\n",
       "      <th>monday_dinner_clean</th>\n",
       "      <th>tuesday_lunch_prep</th>\n",
       "      <th>tuesday_lunch_clean</th>\n",
       "      <th>tuesday_dinner_prep</th>\n",
       "      <th>tuesday_dinner_clean</th>\n",
       "      <th>wednesday_lunch_prep</th>\n",
       "      <th>wednesday_lunch_clean</th>\n",
       "      <th>wednesday_dinner_prep</th>\n",
       "      <th>wednesday_dinner_clean</th>\n",
       "      <th>thursday_lunch_prep</th>\n",
       "      <th>thursday_lunch_clean</th>\n",
       "      <th>thursday_dinner_prep</th>\n",
       "      <th>thursday_dinner_clean</th>\n",
       "      <th>friday_lunch_prep</th>\n",
       "      <th>friday_lunch_clean</th>\n",
       "      <th>friday_dinner_prep</th>\n",
       "      <th>friday_dinner_clean</th>\n",
       "      <th>saturday_lunch_prep</th>\n",
       "      <th>saturday_lunch_clean</th>\n",
       "      <th>food_truck</th>\n",
       "      <th>bathroom_cleaning</th>\n",
       "      <th>bathroom_cleaning_shift_1</th>\n",
       "      <th>bathroom_cleaning_shift_2</th>\n",
       "      <th>cooking_ability</th>\n",
       "    </tr>\n",
       "  </thead>\n",
       "  <tbody>\n",
       "    <tr>\n",
       "      <th>0</th>\n",
       "      <td>John Fabrycky</td>\n",
       "      <td>1</td>\n",
       "      <td>Junior</td>\n",
       "      <td>0</td>\n",
       "      <td>0</td>\n",
       "      <td>1</td>\n",
       "      <td>1</td>\n",
       "      <td>0</td>\n",
       "      <td>0</td>\n",
       "      <td>1</td>\n",
       "      <td>1</td>\n",
       "      <td>0</td>\n",
       "      <td>0</td>\n",
       "      <td>0</td>\n",
       "      <td>1</td>\n",
       "      <td>0</td>\n",
       "      <td>0</td>\n",
       "      <td>0</td>\n",
       "      <td>1</td>\n",
       "      <td>0</td>\n",
       "      <td>0</td>\n",
       "      <td>0</td>\n",
       "      <td>1</td>\n",
       "      <td>1</td>\n",
       "      <td>1</td>\n",
       "      <td>0</td>\n",
       "      <td>1</td>\n",
       "      <td>1</td>\n",
       "      <td>1</td>\n",
       "      <td>1</td>\n",
       "    </tr>\n",
       "  </tbody>\n",
       "</table>\n",
       "</div>"
      ],
      "text/plain": [
       "            name  id year_in_school  monday_lunch_prep  monday_lunch_clean  \\\n",
       "0  John Fabrycky   1         Junior                  0                   0   \n",
       "\n",
       "   monday_dinner_prep  monday_dinner_clean  tuesday_lunch_prep  \\\n",
       "0                   1                    1                   0   \n",
       "\n",
       "   tuesday_lunch_clean  tuesday_dinner_prep  tuesday_dinner_clean  \\\n",
       "0                    0                    1                     1   \n",
       "\n",
       "   wednesday_lunch_prep  wednesday_lunch_clean  wednesday_dinner_prep  \\\n",
       "0                     0                      0                      0   \n",
       "\n",
       "   wednesday_dinner_clean  thursday_lunch_prep  thursday_lunch_clean  \\\n",
       "0                       1                    0                     0   \n",
       "\n",
       "   thursday_dinner_prep  thursday_dinner_clean  friday_lunch_prep  \\\n",
       "0                     0                      1                  0   \n",
       "\n",
       "   friday_lunch_clean  friday_dinner_prep  friday_dinner_clean  \\\n",
       "0                   0                   0                    1   \n",
       "\n",
       "   saturday_lunch_prep  saturday_lunch_clean  food_truck  bathroom_cleaning  \\\n",
       "0                    1                     1           0                  1   \n",
       "\n",
       "   bathroom_cleaning_shift_1  bathroom_cleaning_shift_2  cooking_ability  \n",
       "0                          1                          1                1  "
      ]
     },
     "execution_count": 90,
     "metadata": {},
     "output_type": "execute_result"
    }
   ],
   "source": [
    "df_availablility.head()"
   ]
  },
  {
   "cell_type": "code",
   "execution_count": 91,
   "metadata": {},
   "outputs": [
    {
     "data": {
      "text/html": [
       "<div>\n",
       "<style scoped>\n",
       "    .dataframe tbody tr th:only-of-type {\n",
       "        vertical-align: middle;\n",
       "    }\n",
       "\n",
       "    .dataframe tbody tr th {\n",
       "        vertical-align: top;\n",
       "    }\n",
       "\n",
       "    .dataframe thead th {\n",
       "        text-align: right;\n",
       "    }\n",
       "</style>\n",
       "<table border=\"1\" class=\"dataframe\">\n",
       "  <thead>\n",
       "    <tr style=\"text-align: right;\">\n",
       "      <th></th>\n",
       "      <th>name</th>\n",
       "      <th>id</th>\n",
       "      <th>year_in_school</th>\n",
       "      <th>monday_lunch_prep</th>\n",
       "      <th>monday_lunch_clean</th>\n",
       "      <th>monday_dinner_prep</th>\n",
       "      <th>monday_dinner_clean</th>\n",
       "      <th>tuesday_lunch_prep</th>\n",
       "      <th>tuesday_lunch_clean</th>\n",
       "      <th>tuesday_dinner_prep</th>\n",
       "      <th>tuesday_dinner_clean</th>\n",
       "      <th>wednesday_lunch_prep</th>\n",
       "      <th>wednesday_lunch_clean</th>\n",
       "      <th>wednesday_dinner_prep</th>\n",
       "      <th>wednesday_dinner_clean</th>\n",
       "      <th>thursday_lunch_prep</th>\n",
       "      <th>thursday_lunch_clean</th>\n",
       "      <th>thursday_dinner_prep</th>\n",
       "      <th>thursday_dinner_clean</th>\n",
       "      <th>friday_lunch_prep</th>\n",
       "      <th>friday_lunch_clean</th>\n",
       "      <th>friday_dinner_prep</th>\n",
       "      <th>friday_dinner_clean</th>\n",
       "      <th>saturday_lunch_prep</th>\n",
       "      <th>saturday_lunch_clean</th>\n",
       "      <th>food_truck</th>\n",
       "      <th>bathroom_cleaning</th>\n",
       "      <th>bathroom_cleaning_shift_1</th>\n",
       "      <th>bathroom_cleaning_shift_2</th>\n",
       "      <th>cooking_ability</th>\n",
       "    </tr>\n",
       "  </thead>\n",
       "  <tbody>\n",
       "    <tr>\n",
       "      <th>0</th>\n",
       "      <td>John Fabrycky</td>\n",
       "      <td>0</td>\n",
       "      <td>Junior</td>\n",
       "      <td>0</td>\n",
       "      <td>0</td>\n",
       "      <td>1</td>\n",
       "      <td>0</td>\n",
       "      <td>0</td>\n",
       "      <td>0</td>\n",
       "      <td>1</td>\n",
       "      <td>1</td>\n",
       "      <td>0</td>\n",
       "      <td>0</td>\n",
       "      <td>0</td>\n",
       "      <td>1</td>\n",
       "      <td>0</td>\n",
       "      <td>0</td>\n",
       "      <td>0</td>\n",
       "      <td>1</td>\n",
       "      <td>0</td>\n",
       "      <td>0</td>\n",
       "      <td>0</td>\n",
       "      <td>1</td>\n",
       "      <td>0</td>\n",
       "      <td>0</td>\n",
       "      <td>0</td>\n",
       "      <td>0</td>\n",
       "      <td>0</td>\n",
       "      <td>0</td>\n",
       "      <td>0</td>\n",
       "    </tr>\n",
       "  </tbody>\n",
       "</table>\n",
       "</div>"
      ],
      "text/plain": [
       "            name  id year_in_school  monday_lunch_prep  monday_lunch_clean  \\\n",
       "0  John Fabrycky   0         Junior                  0                   0   \n",
       "\n",
       "   monday_dinner_prep  monday_dinner_clean  tuesday_lunch_prep  \\\n",
       "0                   1                    0                   0   \n",
       "\n",
       "   tuesday_lunch_clean  tuesday_dinner_prep  tuesday_dinner_clean  \\\n",
       "0                    0                    1                     1   \n",
       "\n",
       "   wednesday_lunch_prep  wednesday_lunch_clean  wednesday_dinner_prep  \\\n",
       "0                     0                      0                      0   \n",
       "\n",
       "   wednesday_dinner_clean  thursday_lunch_prep  thursday_lunch_clean  \\\n",
       "0                       1                    0                     0   \n",
       "\n",
       "   thursday_dinner_prep  thursday_dinner_clean  friday_lunch_prep  \\\n",
       "0                     0                      1                  0   \n",
       "\n",
       "   friday_lunch_clean  friday_dinner_prep  friday_dinner_clean  \\\n",
       "0                   0                   0                    1   \n",
       "\n",
       "   saturday_lunch_prep  saturday_lunch_clean  food_truck  bathroom_cleaning  \\\n",
       "0                    0                     0           0                  0   \n",
       "\n",
       "   bathroom_cleaning_shift_1  bathroom_cleaning_shift_2  cooking_ability  \n",
       "0                          0                          0                0  "
      ]
     },
     "execution_count": 91,
     "metadata": {},
     "output_type": "execute_result"
    }
   ],
   "source": [
    "df_preference.head()"
   ]
  },
  {
   "cell_type": "markdown",
   "metadata": {},
   "source": [
    "### LP Formulation"
   ]
  },
  {
   "cell_type": "code",
   "execution_count": 92,
   "metadata": {},
   "outputs": [],
   "source": [
    "residents = df['id'].tolist()"
   ]
  },
  {
   "cell_type": "code",
   "execution_count": 93,
   "metadata": {},
   "outputs": [
    {
     "data": {
      "text/plain": [
       "array([4])"
      ]
     },
     "execution_count": 93,
     "metadata": {},
     "output_type": "execute_result"
    }
   ],
   "source": [
    "cooking_ability = np.array(df['cooking_ability'])\n",
    "cooking_ability"
   ]
  },
  {
   "cell_type": "code",
   "execution_count": 94,
   "metadata": {},
   "outputs": [
    {
     "data": {
      "text/html": [
       "<div>\n",
       "<style scoped>\n",
       "    .dataframe tbody tr th:only-of-type {\n",
       "        vertical-align: middle;\n",
       "    }\n",
       "\n",
       "    .dataframe tbody tr th {\n",
       "        vertical-align: top;\n",
       "    }\n",
       "\n",
       "    .dataframe thead th {\n",
       "        text-align: right;\n",
       "    }\n",
       "</style>\n",
       "<table border=\"1\" class=\"dataframe\">\n",
       "  <thead>\n",
       "    <tr style=\"text-align: right;\">\n",
       "      <th></th>\n",
       "      <th>name</th>\n",
       "      <th>id</th>\n",
       "      <th>year_in_school</th>\n",
       "      <th>monday_lunch_prep</th>\n",
       "      <th>monday_lunch_clean</th>\n",
       "      <th>monday_dinner_prep</th>\n",
       "      <th>monday_dinner_clean</th>\n",
       "      <th>tuesday_lunch_prep</th>\n",
       "      <th>tuesday_lunch_clean</th>\n",
       "      <th>tuesday_dinner_prep</th>\n",
       "      <th>tuesday_dinner_clean</th>\n",
       "      <th>wednesday_lunch_prep</th>\n",
       "      <th>wednesday_lunch_clean</th>\n",
       "      <th>wednesday_dinner_prep</th>\n",
       "      <th>wednesday_dinner_clean</th>\n",
       "      <th>thursday_lunch_prep</th>\n",
       "      <th>thursday_lunch_clean</th>\n",
       "      <th>thursday_dinner_prep</th>\n",
       "      <th>thursday_dinner_clean</th>\n",
       "      <th>friday_lunch_prep</th>\n",
       "      <th>friday_lunch_clean</th>\n",
       "      <th>friday_dinner_prep</th>\n",
       "      <th>friday_dinner_clean</th>\n",
       "      <th>saturday_lunch_prep</th>\n",
       "      <th>saturday_lunch_clean</th>\n",
       "      <th>food_truck</th>\n",
       "      <th>bathroom_cleaning</th>\n",
       "      <th>bathroom_cleaning_shift_1</th>\n",
       "      <th>bathroom_cleaning_shift_2</th>\n",
       "      <th>cooking_ability</th>\n",
       "    </tr>\n",
       "  </thead>\n",
       "  <tbody>\n",
       "    <tr>\n",
       "      <th>0</th>\n",
       "      <td>John Fabrycky</td>\n",
       "      <td>0</td>\n",
       "      <td>Junior</td>\n",
       "      <td>0</td>\n",
       "      <td>0</td>\n",
       "      <td>1</td>\n",
       "      <td>0</td>\n",
       "      <td>0</td>\n",
       "      <td>0</td>\n",
       "      <td>1</td>\n",
       "      <td>1</td>\n",
       "      <td>0</td>\n",
       "      <td>0</td>\n",
       "      <td>0</td>\n",
       "      <td>1</td>\n",
       "      <td>0</td>\n",
       "      <td>0</td>\n",
       "      <td>0</td>\n",
       "      <td>1</td>\n",
       "      <td>0</td>\n",
       "      <td>0</td>\n",
       "      <td>0</td>\n",
       "      <td>1</td>\n",
       "      <td>0</td>\n",
       "      <td>0</td>\n",
       "      <td>0</td>\n",
       "      <td>0</td>\n",
       "      <td>0</td>\n",
       "      <td>0</td>\n",
       "      <td>0</td>\n",
       "    </tr>\n",
       "  </tbody>\n",
       "</table>\n",
       "</div>"
      ],
      "text/plain": [
       "            name  id year_in_school  monday_lunch_prep  monday_lunch_clean  \\\n",
       "0  John Fabrycky   0         Junior                  0                   0   \n",
       "\n",
       "   monday_dinner_prep  monday_dinner_clean  tuesday_lunch_prep  \\\n",
       "0                   1                    0                   0   \n",
       "\n",
       "   tuesday_lunch_clean  tuesday_dinner_prep  tuesday_dinner_clean  \\\n",
       "0                    0                    1                     1   \n",
       "\n",
       "   wednesday_lunch_prep  wednesday_lunch_clean  wednesday_dinner_prep  \\\n",
       "0                     0                      0                      0   \n",
       "\n",
       "   wednesday_dinner_clean  thursday_lunch_prep  thursday_lunch_clean  \\\n",
       "0                       1                    0                     0   \n",
       "\n",
       "   thursday_dinner_prep  thursday_dinner_clean  friday_lunch_prep  \\\n",
       "0                     0                      1                  0   \n",
       "\n",
       "   friday_lunch_clean  friday_dinner_prep  friday_dinner_clean  \\\n",
       "0                   0                   0                    1   \n",
       "\n",
       "   saturday_lunch_prep  saturday_lunch_clean  food_truck  bathroom_cleaning  \\\n",
       "0                    0                     0           0                  0   \n",
       "\n",
       "   bathroom_cleaning_shift_1  bathroom_cleaning_shift_2  cooking_ability  \n",
       "0                          0                          0                0  "
      ]
     },
     "execution_count": 94,
     "metadata": {},
     "output_type": "execute_result"
    }
   ],
   "source": [
    "## Checking Work\n",
    "\n",
    "pd.set_option('display.max_columns', None)\n",
    "df_preference.iloc[:,:]"
   ]
  },
  {
   "cell_type": "code",
   "execution_count": 101,
   "metadata": {},
   "outputs": [],
   "source": [
    "pd.set_option('future.no_silent_downcasting', True)\n",
    "\n",
    "mapping = {\"John Fabrycky\": 1, \"Junior\": 3}\n",
    "arr_availability = df_availablility\n",
    "    .replace(mapping\n",
    "    .to_numpy()\n",
    "    .astype(int)\n",
    "np.savetxt('Output/availability_matrix.txt', arr_availability, delimiter='\\t', fmt='%d')\n",
    "             \n",
    "arr_preference = df_preference\n",
    "    .replace(mapping)\n",
    "    .to_numpy()\n",
    "    .astype(int)\n",
    "np.savetxt('Output/availability_matrix.txt', arr_availability, delimiter='\\t', fmt='%d')"
   ]
  },
  {
   "cell_type": "markdown",
   "metadata": {},
   "source": [
    "### Feedback Functions"
   ]
  },
  {
   "cell_type": "code",
   "execution_count": 102,
   "metadata": {},
   "outputs": [],
   "source": [
    "shifts_ordered = shift_cols[:-3] + [shift_cols[-1]] + shift_cols[-3:-1]\n",
    "# shifts_ordered\n",
    "\n",
    "resident_ids = dict()\n",
    "for index, row in df[['name','id']].iterrows():\n",
    "    resident_ids[row['id']] = row['name'].strip()"
   ]
  },
  {
   "cell_type": "code",
   "execution_count": 128,
   "metadata": {},
   "outputs": [],
   "source": [
    "def analyze(problem, x, availability_matrix, preference_matrix, shifts_ordered, resident_ids):\n",
    "    if (problem.status != 1): raise Exception(\"Problem not solved.\")\n",
    "        \n",
    "    ## Shift Schedule\n",
    "    shift_schedule = dict()\n",
    "    \n",
    "    on_shift_schedule = []\n",
    "    for d in days:\n",
    "        for s in shifts:\n",
    "            on_shift = []\n",
    "            for r in residents:\n",
    "                if x[r][d][s].varValue==1: \n",
    "                    rezzie_name = resident_ids[r]\n",
    "                    if (availability_matrix[r][d][s] == 1) & (preference_matrix[r][d][s] == 1): on_shift.append(f\"{rezzie_name}^\")\n",
    "                    elif (availability_matrix[r][d][s] == 1) & (preference_matrix[r][d][s] == 0): on_shift.append(f\"{rezzie_name}\")\n",
    "                    else: on_shift.append(f\"{rezzie_name}*\")\n",
    "            # print(f\"Day: {d}, Shift: {s}, Residents: {on_shift}\")\n",
    "            if len(on_shift) != 0: on_shift_schedule.append(on_shift)\n",
    "\n",
    "    if (len(on_shift_schedule) != len(shifts_ordered)): raise Exception(\"Unexpected number of scheduled shifts.\")\n",
    "\n",
    "    for i in range(len(on_shift_schedule)):\n",
    "        shift_schedule[shifts_ordered[i]] = on_shift_schedule[i]\n",
    "        \n",
    "    filepath = \"Output/\" + datetime.datetime.fromtimestamp(time.time()).strftime('%Y%m%d_%H%M%S') + \"_shiftview.json\"\n",
    "    with open(filepath, \"w\") as file:\n",
    "        json.dump(shift_schedule, file, indent=4)\n",
    "        \n",
    "    ## Rezzie Schedule\n",
    "    rezzie_schedule = dict()\n",
    "    \n",
    "    for r in residents:\n",
    "        rezzie_name = resident_ids[r]\n",
    "        rezzie_shifts = []\n",
    "        for d in days:\n",
    "            for s in shifts:\n",
    "                if x[r][d][s].varValue==1: \n",
    "                    if (availability_matrix[r][d][s] == 1) & (preference_matrix[r][d][s] == 1): rezzie_shifts.append(f\"{(d,s)}^\")\n",
    "                    elif (availability_matrix[r][d][s] == 1) & (preference_matrix[r][d][s] == 0): rezzie_shifts.append(f\"{(d,s)}\")\n",
    "                    else: rezzie_shifts.append(f\"{(d,s)}*\")\n",
    "        rezzie_schedule[rezzie_name] = rezzie_shifts\n",
    "        \n",
    "    filepath = \"Output/\" + datetime.datetime.fromtimestamp(time.time()).strftime('%Y%m%d_%H%M%S') + \"_rezzieview.json\"\n",
    "    with open(filepath, \"w\") as file:\n",
    "        json.dump(rezzie_schedule, file, indent=4)\n",
    "        \n",
    "    ## Objective\n",
    "    objective = problem.objective.value()\n",
    "    \n",
    "    return shift_schedule, rezzie_schedule, objective"
   ]
  },
  {
   "cell_type": "markdown",
   "metadata": {},
   "source": [
    "### Model 1"
   ]
  },
  {
   "cell_type": "markdown",
   "metadata": {},
   "source": [
    "__Objective__"
   ]
  },
  {
   "cell_type": "markdown",
   "metadata": {},
   "source": [
    "Objective 1: Feasible Schedule"
   ]
  },
  {
   "cell_type": "code",
   "execution_count": 81,
   "metadata": {},
   "outputs": [],
   "source": [
    "problem1 = pulp.LpProblem(\"commie_schedule\",pulp.LpMaximize)"
   ]
  },
  {
   "cell_type": "code",
   "execution_count": 82,
   "metadata": {},
   "outputs": [],
   "source": [
    "x = pulp.LpVariable.dicts(\"x\", (residents, days, shifts), cat='Binary')"
   ]
  },
  {
   "cell_type": "code",
   "execution_count": 83,
   "metadata": {},
   "outputs": [],
   "source": [
    "problem1 += pulp.lpSum(availability_matrix[r][d][s]*x[r][d][s] for r in residents for d in days for s in shifts)\n",
    "# problem1 += 0\n",
    "# problem1"
   ]
  },
  {
   "cell_type": "markdown",
   "metadata": {},
   "source": [
    "__Constraints__"
   ]
  },
  {
   "cell_type": "markdown",
   "metadata": {},
   "source": [
    "Constraint 1: Zero out non-shifts"
   ]
  },
  {
   "cell_type": "code",
   "execution_count": 84,
   "metadata": {},
   "outputs": [],
   "source": [
    "## non-shift in the form (day,shift) \n",
    "non_shifts = [(0,4),(1,4),(2,4),(3,4),(5,2),(5,3),(5,4)]\n",
    "\n",
    "for r in residents:\n",
    "    for d, s in non_shifts:\n",
    "        problem1 += x[r][d][s] <= 0"
   ]
  },
  {
   "cell_type": "markdown",
   "metadata": {},
   "source": [
    "Constraint 2: Resident must be available"
   ]
  },
  {
   "cell_type": "code",
   "execution_count": 85,
   "metadata": {},
   "outputs": [],
   "source": [
    "for r in residents:\n",
    "    for d in days:\n",
    "        for s in shifts:\n",
    "            problem1 += x[r][d][s] <= availability_matrix[r][d][s]"
   ]
  },
  {
   "cell_type": "markdown",
   "metadata": {},
   "source": [
    "Constraint 3: Minimum of 2, maximum of 3 work hours per week, per resident"
   ]
  },
  {
   "cell_type": "code",
   "execution_count": 229,
   "metadata": {},
   "outputs": [],
   "source": [
    "for r in residents:\n",
    "    problem1 += pulp.lpSum(x[r][d][s] for d in days for s in shifts) + pulp.lpSum(x[r][d][2] for d in days) >= 2\n",
    "    problem1 += pulp.lpSum(x[r][d][s] for d in days for s in shifts) + pulp.lpSum(x[r][d][2] for d in days) <= 3"
   ]
  },
  {
   "cell_type": "markdown",
   "metadata": {},
   "source": [
    "Constraint 4: 2-4 residents per shift"
   ]
  },
  {
   "cell_type": "code",
   "execution_count": 87,
   "metadata": {},
   "outputs": [],
   "source": [
    "for d in days:\n",
    "    for s in shifts:\n",
    "        if (d,s) not in non_shifts: \n",
    "            problem1 += pulp.lpSum(x[r][d][s] for r in residents) >= 2\n",
    "            problem1 += pulp.lpSum(x[r][d][s] for r in residents) <= 4\n",
    "    "
   ]
  },
  {
   "cell_type": "markdown",
   "metadata": {},
   "source": [
    "__Solve__"
   ]
  },
  {
   "cell_type": "code",
   "execution_count": 88,
   "metadata": {},
   "outputs": [
    {
     "name": "stdout",
     "output_type": "stream",
     "text": [
      "-1\n"
     ]
    }
   ],
   "source": [
    "problem1.solve()\n",
    "print(problem1.status)"
   ]
  },
  {
   "cell_type": "markdown",
   "metadata": {},
   "source": [
    "Upon further examination, Trevor only recorded one potentially free shift, so no schedule could possibly be generated to give him two apropriate shifts.\n",
    "Since Saturdays are typically free for everyone, I am adjusting the availiability and preference matrices to make Trevor available for Saturday shifts, with a preference against them. "
   ]
  },
  {
   "cell_type": "markdown",
   "metadata": {},
   "source": [
    "__Adjustment__"
   ]
  },
  {
   "cell_type": "code",
   "execution_count": 202,
   "metadata": {},
   "outputs": [],
   "source": [
    "availability_matrix_2 = availability_matrix\n",
    "preference_matrix_2   = preference_matrix\n",
    "\n",
    "## Will throw error if multiple instances of same name\n",
    "name = \"Trevor Lee\"\n",
    "id = {i for i in resident_ids if resident_ids[i]==name}.pop()\n",
    "\n",
    "availability_matrix_2[id][5][0] = 1\n",
    "availability_matrix_2[id][5][1] = 1\n",
    "preference_matrix_2[id][5][0]   = 1\n",
    "preference_matrix_2[id][5][1]   = 1"
   ]
  },
  {
   "cell_type": "markdown",
   "metadata": {},
   "source": [
    "### Model 2"
   ]
  },
  {
   "cell_type": "markdown",
   "metadata": {},
   "source": [
    "Same as model 1, with adjusted (allowing feasiblity) availability matrix"
   ]
  },
  {
   "cell_type": "markdown",
   "metadata": {},
   "source": [
    "__Objective__"
   ]
  },
  {
   "cell_type": "code",
   "execution_count": 230,
   "metadata": {},
   "outputs": [],
   "source": [
    "problem2 = pulp.LpProblem(\"commie_schedule\",pulp.LpMaximize)\n",
    "problem2 += 0"
   ]
  },
  {
   "cell_type": "code",
   "execution_count": 231,
   "metadata": {},
   "outputs": [],
   "source": [
    "x = pulp.LpVariable.dicts(\"x\", (residents, days, shifts), cat='Binary')"
   ]
  },
  {
   "cell_type": "markdown",
   "metadata": {},
   "source": [
    "__Constraints__"
   ]
  },
  {
   "cell_type": "markdown",
   "metadata": {},
   "source": [
    "Constraint 1: Zero out non-shifts"
   ]
  },
  {
   "cell_type": "code",
   "execution_count": 232,
   "metadata": {},
   "outputs": [],
   "source": [
    "## non-shift in the form (day,shift) \n",
    "non_shifts = [(0,4),(1,4),(2,4),(3,4),(5,2),(5,3),(5,4)]\n",
    "\n",
    "for r in residents:\n",
    "    for d, s in non_shifts:\n",
    "        problem2 += x[r][d][s] <= 0"
   ]
  },
  {
   "cell_type": "markdown",
   "metadata": {},
   "source": [
    "Constraint 2: Resident must be available"
   ]
  },
  {
   "cell_type": "code",
   "execution_count": 233,
   "metadata": {},
   "outputs": [],
   "source": [
    "for r in residents:\n",
    "    for d in days:\n",
    "        for s in shifts:\n",
    "            problem2 += x[r][d][s] <= availability_matrix_2[r][d][s]"
   ]
  },
  {
   "cell_type": "markdown",
   "metadata": {},
   "source": [
    "Constraint 3: Minimum of 2, maximum of 3 work hours per week, per resident"
   ]
  },
  {
   "cell_type": "code",
   "execution_count": 234,
   "metadata": {},
   "outputs": [],
   "source": [
    "for r in residents:\n",
    "    problem2 += pulp.lpSum(x[r][d][s] for d in days for s in shifts) + pulp.lpSum(x[r][d][2] for d in days) >= 2\n",
    "    problem2 += pulp.lpSum(x[r][d][s] for d in days for s in shifts) + pulp.lpSum(x[r][d][2] for d in days) <= 3"
   ]
  },
  {
   "cell_type": "markdown",
   "metadata": {},
   "source": [
    "Constraint 4: 2-4 residents per shift"
   ]
  },
  {
   "cell_type": "code",
   "execution_count": 235,
   "metadata": {},
   "outputs": [],
   "source": [
    "for d in days:\n",
    "    for s in shifts:\n",
    "        if (d,s) not in non_shifts: \n",
    "            problem2 += pulp.lpSum(x[r][d][s] for r in residents) >= 2\n",
    "            problem2 += pulp.lpSum(x[r][d][s] for r in residents) <= 4"
   ]
  },
  {
   "cell_type": "markdown",
   "metadata": {},
   "source": [
    "__Solve__"
   ]
  },
  {
   "cell_type": "code",
   "execution_count": 236,
   "metadata": {},
   "outputs": [
    {
     "name": "stdout",
     "output_type": "stream",
     "text": [
      "1\n"
     ]
    }
   ],
   "source": [
    "problem2.solve()\n",
    "print(problem2.status)"
   ]
  },
  {
   "cell_type": "markdown",
   "metadata": {},
   "source": [
    "__Feedback__"
   ]
  },
  {
   "cell_type": "code",
   "execution_count": 237,
   "metadata": {},
   "outputs": [],
   "source": [
    "shift_schedule, rezzie_schedule, objective = analyze(problem2, x, availability_matrix_2, preference_matrix_2, shifts_ordered, resident_ids)"
   ]
  },
  {
   "cell_type": "code",
   "execution_count": 238,
   "metadata": {},
   "outputs": [],
   "source": [
    "objective"
   ]
  },
  {
   "cell_type": "markdown",
   "metadata": {},
   "source": [
    "### Model 3"
   ]
  },
  {
   "cell_type": "markdown",
   "metadata": {},
   "source": [
    "__Objective__"
   ]
  },
  {
   "cell_type": "markdown",
   "metadata": {},
   "source": [
    "Objective 3: Minimize missed preferences"
   ]
  },
  {
   "cell_type": "code",
   "execution_count": 239,
   "metadata": {},
   "outputs": [],
   "source": [
    "problem3 = pulp.LpProblem(\"commie_schedule_3\",pulp.LpMinimize)"
   ]
  },
  {
   "cell_type": "code",
   "execution_count": 240,
   "metadata": {},
   "outputs": [],
   "source": [
    "x = pulp.LpVariable.dicts(\"x\", (residents, days, shifts), cat='Binary')"
   ]
  },
  {
   "cell_type": "code",
   "execution_count": 241,
   "metadata": {},
   "outputs": [
    {
     "data": {
      "text/plain": [
       "commie_schedule_3:\n",
       "MINIMIZE\n",
       "1.0*x_0_5_0 + 1.0*x_10_1_3 + 1.0*x_10_2_3 + 1.0*x_10_4_0 + 1.0*x_10_4_1 + 1.0*x_10_4_2 + 1.0*x_10_4_3 + 1.0*x_10_5_0 + 1.0*x_10_5_1 + 1.0*x_11_1_1 + 1.0*x_11_4_1 + 1.0*x_11_4_3 + 1.0*x_11_5_1 + 1.0*x_13_5_0 + 1.0*x_13_5_1 + 1.0*x_1_0_1 + 1.0*x_1_0_2 + 1.0*x_1_2_1 + 1.0*x_1_2_2 + 1.0*x_20_5_0 + 1.0*x_20_5_1 + 1.0*x_21_4_0 + 1.0*x_23_4_2 + 1.0*x_23_4_3 + 1.0*x_23_5_0 + 1.0*x_23_5_1 + 1.0*x_25_5_0 + 1.0*x_25_5_1 + 1.0*x_26_1_3 + 1.0*x_26_3_3 + 1.0*x_27_5_0 + 1.0*x_27_5_1 + 1.0*x_27_5_2 + 1.0*x_28_0_3 + 1.0*x_28_3_3 + 1.0*x_28_4_2 + 1.0*x_28_4_3 + 1.0*x_29_5_0 + 1.0*x_29_5_1 + 1.0*x_2_0_2 + 1.0*x_2_1_1 + 1.0*x_5_4_2 + 1.0*x_5_4_3 + 1.0*x_6_1_3 + 1.0*x_6_2_3 + 1.0*x_6_3_0 + 1.0*x_6_3_1 + 1.0*x_6_5_0 + 1.0*x_6_5_1 + 0.0\n",
       "VARIABLES\n",
       "0 <= x_0_5_0 <= 1 Integer\n",
       "0 <= x_10_1_3 <= 1 Integer\n",
       "0 <= x_10_2_3 <= 1 Integer\n",
       "0 <= x_10_4_0 <= 1 Integer\n",
       "0 <= x_10_4_1 <= 1 Integer\n",
       "0 <= x_10_4_2 <= 1 Integer\n",
       "0 <= x_10_4_3 <= 1 Integer\n",
       "0 <= x_10_5_0 <= 1 Integer\n",
       "0 <= x_10_5_1 <= 1 Integer\n",
       "0 <= x_11_1_1 <= 1 Integer\n",
       "0 <= x_11_4_1 <= 1 Integer\n",
       "0 <= x_11_4_3 <= 1 Integer\n",
       "0 <= x_11_5_1 <= 1 Integer\n",
       "0 <= x_13_5_0 <= 1 Integer\n",
       "0 <= x_13_5_1 <= 1 Integer\n",
       "0 <= x_1_0_1 <= 1 Integer\n",
       "0 <= x_1_0_2 <= 1 Integer\n",
       "0 <= x_1_2_1 <= 1 Integer\n",
       "0 <= x_1_2_2 <= 1 Integer\n",
       "0 <= x_20_5_0 <= 1 Integer\n",
       "0 <= x_20_5_1 <= 1 Integer\n",
       "0 <= x_21_4_0 <= 1 Integer\n",
       "0 <= x_23_4_2 <= 1 Integer\n",
       "0 <= x_23_4_3 <= 1 Integer\n",
       "0 <= x_23_5_0 <= 1 Integer\n",
       "0 <= x_23_5_1 <= 1 Integer\n",
       "0 <= x_25_5_0 <= 1 Integer\n",
       "0 <= x_25_5_1 <= 1 Integer\n",
       "0 <= x_26_1_3 <= 1 Integer\n",
       "0 <= x_26_3_3 <= 1 Integer\n",
       "0 <= x_27_5_0 <= 1 Integer\n",
       "0 <= x_27_5_1 <= 1 Integer\n",
       "0 <= x_27_5_2 <= 1 Integer\n",
       "0 <= x_28_0_3 <= 1 Integer\n",
       "0 <= x_28_3_3 <= 1 Integer\n",
       "0 <= x_28_4_2 <= 1 Integer\n",
       "0 <= x_28_4_3 <= 1 Integer\n",
       "0 <= x_29_5_0 <= 1 Integer\n",
       "0 <= x_29_5_1 <= 1 Integer\n",
       "0 <= x_2_0_2 <= 1 Integer\n",
       "0 <= x_2_1_1 <= 1 Integer\n",
       "0 <= x_5_4_2 <= 1 Integer\n",
       "0 <= x_5_4_3 <= 1 Integer\n",
       "0 <= x_6_1_3 <= 1 Integer\n",
       "0 <= x_6_2_3 <= 1 Integer\n",
       "0 <= x_6_3_0 <= 1 Integer\n",
       "0 <= x_6_3_1 <= 1 Integer\n",
       "0 <= x_6_5_0 <= 1 Integer\n",
       "0 <= x_6_5_1 <= 1 Integer"
      ]
     },
     "execution_count": 241,
     "metadata": {},
     "output_type": "execute_result"
    }
   ],
   "source": [
    "problem3 += pulp.lpSum(preference_matrix_2[r][d][s]*x[r][d][s] for r in residents for d in days for s in shifts)\n",
    "problem3"
   ]
  },
  {
   "cell_type": "markdown",
   "metadata": {},
   "source": [
    "__Constraints__"
   ]
  },
  {
   "cell_type": "markdown",
   "metadata": {},
   "source": [
    "Constraint 1: Zero out non-shifts"
   ]
  },
  {
   "cell_type": "code",
   "execution_count": 242,
   "metadata": {},
   "outputs": [],
   "source": [
    "## non-shift in the form (day,shift) \n",
    "non_shifts = [(0,4),(1,4),(2,4),(3,4),(5,2),(5,3),(5,4)]\n",
    "\n",
    "for r in residents:\n",
    "    for d, s in non_shifts:\n",
    "        problem3 += x[r][d][s] <= 0"
   ]
  },
  {
   "cell_type": "markdown",
   "metadata": {},
   "source": [
    "Constraint 2: Resident must be available"
   ]
  },
  {
   "cell_type": "code",
   "execution_count": 243,
   "metadata": {},
   "outputs": [],
   "source": [
    "for r in residents:\n",
    "    for d in days:\n",
    "        for s in shifts:\n",
    "            problem3 += x[r][d][s] <= availability_matrix_2[r][d][s]"
   ]
  },
  {
   "cell_type": "markdown",
   "metadata": {},
   "source": [
    "Constraint 3: Minimum of 2, maximum of 3 work hours per week, per resident"
   ]
  },
  {
   "cell_type": "code",
   "execution_count": 244,
   "metadata": {},
   "outputs": [],
   "source": [
    "for r in residents:\n",
    "    problem3 += pulp.lpSum(x[r][d][s] for d in days for s in shifts) + pulp.lpSum(x[r][d][2] for d in days) >= 2\n",
    "    problem3 += pulp.lpSum(x[r][d][s] for d in days for s in shifts) + pulp.lpSum(x[r][d][2] for d in days) <= 3"
   ]
  },
  {
   "cell_type": "markdown",
   "metadata": {},
   "source": [
    "Constraint 4: 2-4 residents per shift"
   ]
  },
  {
   "cell_type": "code",
   "execution_count": 245,
   "metadata": {},
   "outputs": [],
   "source": [
    "for d in days:\n",
    "    for s in shifts:\n",
    "        if (d,s) not in non_shifts: \n",
    "            problem3 += pulp.lpSum(x[r][d][s] for r in residents) >= 2\n",
    "            problem3 += pulp.lpSum(x[r][d][s] for r in residents) <= 4"
   ]
  },
  {
   "cell_type": "markdown",
   "metadata": {},
   "source": [
    "__Solve__"
   ]
  },
  {
   "cell_type": "code",
   "execution_count": 246,
   "metadata": {},
   "outputs": [
    {
     "name": "stdout",
     "output_type": "stream",
     "text": [
      "1\n"
     ]
    }
   ],
   "source": [
    "problem3.solve()\n",
    "print(problem3.status)"
   ]
  },
  {
   "cell_type": "markdown",
   "metadata": {},
   "source": [
    "__Feedback__"
   ]
  },
  {
   "cell_type": "code",
   "execution_count": 247,
   "metadata": {},
   "outputs": [],
   "source": [
    "shift_schedule, rezzie_schedule, objective = analyze(problem3, x, availability_matrix_2, preference_matrix_2, shifts_ordered, resident_ids)"
   ]
  },
  {
   "cell_type": "code",
   "execution_count": 248,
   "metadata": {},
   "outputs": [
    {
     "data": {
      "text/plain": [
       "1.0"
      ]
     },
     "execution_count": 248,
     "metadata": {},
     "output_type": "execute_result"
    }
   ],
   "source": [
    "objective"
   ]
  },
  {
   "cell_type": "markdown",
   "metadata": {},
   "source": [
    "Will now set as a firm constraint, that the number of non-preferred shifts assigned stay lower than 1\n",
    "\n",
    "Can be modified depending on how further scheduling goes."
   ]
  },
  {
   "cell_type": "markdown",
   "metadata": {},
   "source": [
    "### Model 4"
   ]
  },
  {
   "cell_type": "markdown",
   "metadata": {},
   "source": [
    "__Objective__"
   ]
  },
  {
   "cell_type": "markdown",
   "metadata": {},
   "source": [
    "Objective 4: Weighing Overflow\n",
    "\n",
    "Best is 2 people for every shift. The order of shifts to assign overflow is the following:\n",
    "\n",
    "1. Lunch Clean (Max 3)\n",
    "2. Dinner Clean (Min 3 Max 4)\n",
    "3. Food Truck (Max infinite)\n",
    "4. Lunch Prep (Max 3)\n",
    "5. Dinner Prep (Max 3)\n",
    "\n",
    "Will seek to add overflow in this manner, while accounting for the changed ideal staff counts"
   ]
  },
  {
   "cell_type": "code",
   "execution_count": 322,
   "metadata": {},
   "outputs": [],
   "source": [
    "problem4 = pulp.LpProblem(\"commie_schedule_4\",pulp.LpMinimize)"
   ]
  },
  {
   "cell_type": "code",
   "execution_count": 337,
   "metadata": {},
   "outputs": [],
   "source": [
    "x = pulp.LpVariable.dicts(\"x\", (residents, days, shifts), cat='Binary')\n",
    "v = pulp.LpVariable.dicts(\"v\", (days, shifts), cat='Continuous') ## Represents Overflow"
   ]
  },
  {
   "cell_type": "code",
   "execution_count": 324,
   "metadata": {},
   "outputs": [
    {
     "data": {
      "text/plain": [
       "commie_schedule_4:\n",
       "MINIMIZE\n",
       "1000*v_0_0 + 1*v_0_1 + 10000*v_0_2 + 10*v_0_3 + 100*v_0_4 + 1000*v_1_0 + 1*v_1_1 + 10000*v_1_2 + 10*v_1_3 + 100*v_1_4 + 1000*v_2_0 + 1*v_2_1 + 10000*v_2_2 + 10*v_2_3 + 100*v_2_4 + 1000*v_3_0 + 1*v_3_1 + 10000*v_3_2 + 10*v_3_3 + 100*v_3_4 + 1000*v_4_0 + 1*v_4_1 + 10000*v_4_2 + 10*v_4_3 + 100*v_4_4 + 1000*v_5_0 + 1*v_5_1 + 10000*v_5_2 + 10*v_5_3 + 100*v_5_4 + 0\n",
       "VARIABLES\n",
       "v_0_0 free Continuous\n",
       "v_0_1 free Continuous\n",
       "v_0_2 free Continuous\n",
       "v_0_3 free Continuous\n",
       "v_0_4 free Continuous\n",
       "v_1_0 free Continuous\n",
       "v_1_1 free Continuous\n",
       "v_1_2 free Continuous\n",
       "v_1_3 free Continuous\n",
       "v_1_4 free Continuous\n",
       "v_2_0 free Continuous\n",
       "v_2_1 free Continuous\n",
       "v_2_2 free Continuous\n",
       "v_2_3 free Continuous\n",
       "v_2_4 free Continuous\n",
       "v_3_0 free Continuous\n",
       "v_3_1 free Continuous\n",
       "v_3_2 free Continuous\n",
       "v_3_3 free Continuous\n",
       "v_3_4 free Continuous\n",
       "v_4_0 free Continuous\n",
       "v_4_1 free Continuous\n",
       "v_4_2 free Continuous\n",
       "v_4_3 free Continuous\n",
       "v_4_4 free Continuous\n",
       "v_5_0 free Continuous\n",
       "v_5_1 free Continuous\n",
       "v_5_2 free Continuous\n",
       "v_5_3 free Continuous\n",
       "v_5_4 free Continuous"
      ]
     },
     "execution_count": 324,
     "metadata": {},
     "output_type": "execute_result"
    }
   ],
   "source": [
    "problem4 += 1*pulp.lpSum(v[d][1] for d in days)     \\\n",
    "        + 10*pulp.lpSum(v[d][3] for d in days)      \\\n",
    "        + 100*pulp.lpSum(v[d][4] for d in days)     \\\n",
    "        + 1000*pulp.lpSum(v[d][0] for d in days)    \\\n",
    "        + 10000*pulp.lpSum(v[d][2] for d in days)\n",
    "problem4"
   ]
  },
  {
   "cell_type": "markdown",
   "metadata": {},
   "source": [
    "__Constraints__"
   ]
  },
  {
   "cell_type": "code",
   "execution_count": 325,
   "metadata": {},
   "outputs": [],
   "source": [
    "lunch_preps = [(0,0),(1,0),(2,0),(3,0),(4,0),(5,0)]\n",
    "lunch_cleans = [(0,1),(1,1),(2,1),(3,1),(4,1),(5,1)]\n",
    "dinner_preps = [(0,2),(1,2),(2,2),(3,2),(4,2)]\n",
    "dinner_cleans = [(0,3),(1,3),(2,3),(3,3),(4,3)]\n",
    "food_truck = (4,4)\n",
    "non_shifts = [(0,4),(1,4),(2,4),(3,4),(5,2),(5,3),(5,4)]"
   ]
  },
  {
   "cell_type": "markdown",
   "metadata": {},
   "source": [
    "Constraint 1: Define Overflow Variable"
   ]
  },
  {
   "cell_type": "code",
   "execution_count": 326,
   "metadata": {},
   "outputs": [],
   "source": [
    "for d,s in lunch_preps: problem4 += v[d][s] == pulp.lpSum(x[r][d][s] for r in residents) - 2\n",
    "for d,s in lunch_cleans: problem4 += v[d][s] == pulp.lpSum(x[r][d][s] for r in residents) - 2\n",
    "for d,s in dinner_preps: problem4 += v[d][s] == pulp.lpSum(x[r][d][s] for r in residents) - 2\n",
    "for d,s in dinner_cleans: problem4 += v[d][s] == pulp.lpSum(x[r][d][s] for r in residents) - 3\n",
    "problem4 += v[4][4] == pulp.lpSum(x[r][4][4] for r in residents) - 2\n",
    "for d,s in non_shifts: problem4 += v[d][s] == 0"
   ]
  },
  {
   "cell_type": "markdown",
   "metadata": {},
   "source": [
    "Constraint 2: Zero out non-shifts"
   ]
  },
  {
   "cell_type": "code",
   "execution_count": 327,
   "metadata": {},
   "outputs": [],
   "source": [
    "for r in residents:\n",
    "    for d, s in non_shifts:\n",
    "        problem4 += x[r][d][s] <= 0"
   ]
  },
  {
   "cell_type": "markdown",
   "metadata": {},
   "source": [
    "Constraint 3: Resident must be available"
   ]
  },
  {
   "cell_type": "code",
   "execution_count": 328,
   "metadata": {},
   "outputs": [],
   "source": [
    "for r in residents:\n",
    "    for d in days:\n",
    "        for s in shifts:\n",
    "            problem4 += x[r][d][s] <= availability_matrix_2[r][d][s]"
   ]
  },
  {
   "cell_type": "markdown",
   "metadata": {},
   "source": [
    "Constraint 4: Minimum of 2, maximum of 3 work hours per week, per resident"
   ]
  },
  {
   "cell_type": "code",
   "execution_count": 329,
   "metadata": {},
   "outputs": [],
   "source": [
    "for r in residents:\n",
    "    problem4 += pulp.lpSum(x[r][d][s] for d in days for s in shifts) + pulp.lpSum(x[r][d][2] for d in days) >= 2\n",
    "    problem4 += pulp.lpSum(x[r][d][s] for d in days for s in shifts) + pulp.lpSum(x[r][d][2] for d in days) <= 3"
   ]
  },
  {
   "cell_type": "markdown",
   "metadata": {},
   "source": [
    "Constraint 4: \n",
    "\n",
    "- 2-3 residents per lunch prep, lunch clean, dinner prep\n",
    "- 3-4 residents per dinner clean\n",
    "- 2-4 residents on food truck"
   ]
  },
  {
   "cell_type": "code",
   "execution_count": 330,
   "metadata": {},
   "outputs": [],
   "source": [
    "for d,s in lunch_preps: \n",
    "    problem4 += pulp.lpSum(x[r][d][s] for r in residents) >= 2\n",
    "    problem4 += pulp.lpSum(x[r][d][s] for r in residents) <= 3\n",
    "for d,s in lunch_cleans:\n",
    "    problem4 += pulp.lpSum(x[r][d][s] for r in residents) >= 2\n",
    "    problem4 += pulp.lpSum(x[r][d][s] for r in residents) <= 3\n",
    "for d,s in dinner_preps:\n",
    "    problem4 += pulp.lpSum(x[r][d][s] for r in residents) >= 2\n",
    "    problem4 += pulp.lpSum(x[r][d][s] for r in residents) <= 3\n",
    "for d,s in dinner_cleans: \n",
    "    problem4 += pulp.lpSum(x[r][d][s] for r in residents) >= 3\n",
    "    problem4 += pulp.lpSum(x[r][d][s] for r in residents) <= 4\n",
    "problem4 += pulp.lpSum(x[r][4][4] for r in residents) >= 2\n",
    "problem4 += pulp.lpSum(x[r][4][4] for r in residents) <= 4\n",
    "for d,s in non_shifts: problem4 += v[d][s] == 0"
   ]
  },
  {
   "cell_type": "markdown",
   "metadata": {},
   "source": [
    "Constraint 5: Maximum of one non-preferred shift assigned"
   ]
  },
  {
   "cell_type": "code",
   "execution_count": 336,
   "metadata": {},
   "outputs": [],
   "source": [
    "problem4 += pulp.lpSum(preference_matrix_2[r][d][s]*x[r][d][s] for r in residents for d in days for s in shifts) <= 1"
   ]
  },
  {
   "cell_type": "markdown",
   "metadata": {},
   "source": [
    "__Solve__"
   ]
  },
  {
   "cell_type": "code",
   "execution_count": 338,
   "metadata": {},
   "outputs": [
    {
     "name": "stdout",
     "output_type": "stream",
     "text": [
      "1\n"
     ]
    }
   ],
   "source": [
    "problem4.solve()\n",
    "print(problem4.status)"
   ]
  },
  {
   "cell_type": "markdown",
   "metadata": {},
   "source": [
    "__Feedback__"
   ]
  },
  {
   "cell_type": "code",
   "execution_count": 333,
   "metadata": {},
   "outputs": [],
   "source": [
    "def analyze2(problem, x, v, availability_matrix, preference_matrix, shifts_ordered, resident_ids):\n",
    "    if (problem.status != 1): raise Exception(\"Problem not solved.\")\n",
    "        \n",
    "    ## Shift Schedule\n",
    "    shift_schedule = dict()\n",
    "    \n",
    "    on_shift_schedule = []\n",
    "    overflow = []\n",
    "    for d in days:\n",
    "        for s in shifts:\n",
    "            if v[d][s].varValue >= 1: overflow.append(1)\n",
    "            else: overflow.append(0)\n",
    "            \n",
    "            on_shift = []\n",
    "            for r in residents:\n",
    "                if x[r][d][s].varValue==1: \n",
    "                    rezzie_name = resident_ids[r]\n",
    "                    if (availability_matrix[r][d][s] == 1) & (preference_matrix[r][d][s] == 1): on_shift.append(f\"{rezzie_name}^\")\n",
    "                    elif (availability_matrix[r][d][s] == 1) & (preference_matrix[r][d][s] == 0): on_shift.append(f\"{rezzie_name}\")\n",
    "                    else: on_shift.append(f\"{rezzie_name}*\")\n",
    "            # print(f\"Day: {d}, Shift: {s}, Residents: {on_shift}\")\n",
    "            if len(on_shift) != 0: on_shift_schedule.append(on_shift)\n",
    "\n",
    "    if (len(on_shift_schedule) != len(shifts_ordered)): raise Exception(\"Unexpected number of scheduled shifts.\")\n",
    "\n",
    "    shifts_ordered_with_overflow = [shifts_ordered[i] + '#' if overflow[i] else shifts_ordered[i] for i in range(len(shifts_ordered))]\n",
    "    for i in range(len(on_shift_schedule)):\n",
    "        shift_schedule[shifts_ordered_with_overflow[i]] = on_shift_schedule[i]\n",
    "        \n",
    "    filepath = \"Output/\" + datetime.datetime.fromtimestamp(time.time()).strftime('%Y%m%d_%H%M%S') + \"_shiftview.json\"\n",
    "    with open(filepath, \"w\") as file:\n",
    "        json.dump(shift_schedule, file, indent=4)\n",
    "        \n",
    "    ## Rezzie Schedule\n",
    "    rezzie_schedule = dict()\n",
    "    \n",
    "    for r in residents:\n",
    "        rezzie_name = resident_ids[r]\n",
    "        rezzie_shifts = []\n",
    "        for d in days:\n",
    "            for s in shifts:\n",
    "                if x[r][d][s].varValue==1: \n",
    "                    if (availability_matrix[r][d][s] == 1) & (preference_matrix[r][d][s] == 1): rezzie_shifts.append(f\"{(d,s)}^\")\n",
    "                    elif (availability_matrix[r][d][s] == 1) & (preference_matrix[r][d][s] == 0): rezzie_shifts.append(f\"{(d,s)}\")\n",
    "                    else: rezzie_shifts.append(f\"{(d,s)}*\")\n",
    "        rezzie_schedule[rezzie_name] = rezzie_shifts\n",
    "        \n",
    "    filepath = \"Output/\" + datetime.datetime.fromtimestamp(time.time()).strftime('%Y%m%d_%H%M%S') + \"_rezzieview.json\"\n",
    "    with open(filepath, \"w\") as file:\n",
    "        json.dump(rezzie_schedule, file, indent=4)\n",
    "        \n",
    "    ## Objective\n",
    "    objective = problem.objective.value()\n",
    "    \n",
    "    return shift_schedule, rezzie_schedule, objective"
   ]
  },
  {
   "cell_type": "code",
   "execution_count": 334,
   "metadata": {},
   "outputs": [],
   "source": [
    "shift_schedule, rezzie_schedule, objective = analyze2(problem4, x, v, availability_matrix_2, preference_matrix_2, shifts_ordered, resident_ids)"
   ]
  },
  {
   "cell_type": "code",
   "execution_count": 335,
   "metadata": {},
   "outputs": [
    {
     "data": {
      "text/plain": [
       "0.0"
      ]
     },
     "execution_count": 335,
     "metadata": {},
     "output_type": "execute_result"
    }
   ],
   "source": [
    "objective"
   ]
  },
  {
   "cell_type": "markdown",
   "metadata": {},
   "source": [
    "Will now set as a firm constraint, that the weighted overflow constant be 0\n",
    "\n",
    "Can be modified depending on how further scheduling goes."
   ]
  },
  {
   "cell_type": "markdown",
   "metadata": {},
   "source": [
    "### Model 5"
   ]
  },
  {
   "cell_type": "markdown",
   "metadata": {},
   "source": [
    "__Objective__"
   ]
  },
  {
   "cell_type": "markdown",
   "metadata": {},
   "source": [
    "Objective 5: Maximize Cooking Ability"
   ]
  },
  {
   "cell_type": "code",
   "execution_count": 363,
   "metadata": {},
   "outputs": [],
   "source": [
    "problem5 = pulp.LpProblem(\"commie_schedule_5\",pulp.LpMaximize)"
   ]
  },
  {
   "cell_type": "code",
   "execution_count": 364,
   "metadata": {},
   "outputs": [],
   "source": [
    "x = pulp.LpVariable.dicts(\"x\", (residents, days, shifts), cat='Binary')\n",
    "v = pulp.LpVariable.dicts(\"v\", (days, shifts), cat='Continuous') ## Represents Overflow"
   ]
  },
  {
   "cell_type": "code",
   "execution_count": 365,
   "metadata": {},
   "outputs": [
    {
     "data": {
      "text/plain": [
       "array([3., 4., 0., 4., 2., 1., 2., 1., 5., 5., 3., 2., 5., 3., 3., 5., 2.,\n",
       "       4., 2., 2., 2., 1., 5., 3., 5., 3., 4., 3., 5., 4.])"
      ]
     },
     "execution_count": 365,
     "metadata": {},
     "output_type": "execute_result"
    }
   ],
   "source": [
    "cooking_ability"
   ]
  },
  {
   "cell_type": "code",
   "execution_count": 366,
   "metadata": {},
   "outputs": [],
   "source": [
    "problem5 += pulp.lpSum(cooking_ability[r]*x[r][d][s] for r in residents for d in days for s in [0,2])"
   ]
  },
  {
   "cell_type": "markdown",
   "metadata": {},
   "source": [
    "__Constraints__"
   ]
  },
  {
   "cell_type": "code",
   "execution_count": 367,
   "metadata": {},
   "outputs": [],
   "source": [
    "lunch_preps = [(0,0),(1,0),(2,0),(3,0),(4,0),(5,0)]\n",
    "lunch_cleans = [(0,1),(1,1),(2,1),(3,1),(4,1),(5,1)]\n",
    "dinner_preps = [(0,2),(1,2),(2,2),(3,2),(4,2)]\n",
    "dinner_cleans = [(0,3),(1,3),(2,3),(3,3),(4,3)]\n",
    "food_truck = (4,4)\n",
    "non_shifts = [(0,4),(1,4),(2,4),(3,4),(5,2),(5,3),(5,4)]"
   ]
  },
  {
   "cell_type": "markdown",
   "metadata": {},
   "source": [
    "Constraint 1: Define Overflow Variable"
   ]
  },
  {
   "cell_type": "code",
   "execution_count": 368,
   "metadata": {},
   "outputs": [],
   "source": [
    "for d,s in lunch_preps: problem5 += v[d][s] == pulp.lpSum(x[r][d][s] for r in residents) - 2\n",
    "for d,s in lunch_cleans: problem5 += v[d][s] == pulp.lpSum(x[r][d][s] for r in residents) - 2\n",
    "for d,s in dinner_preps: problem5 += v[d][s] == pulp.lpSum(x[r][d][s] for r in residents) - 2\n",
    "for d,s in dinner_cleans: problem5 += v[d][s] == pulp.lpSum(x[r][d][s] for r in residents) - 3\n",
    "problem5 += v[4][4] == pulp.lpSum(x[r][4][4] for r in residents) - 2\n",
    "for d,s in non_shifts: problem5 += v[d][s] == 0"
   ]
  },
  {
   "cell_type": "markdown",
   "metadata": {},
   "source": [
    "Constraint 2: Zero out non-shifts"
   ]
  },
  {
   "cell_type": "code",
   "execution_count": 369,
   "metadata": {},
   "outputs": [],
   "source": [
    "for r in residents:\n",
    "    for d, s in non_shifts:\n",
    "        problem5 += x[r][d][s] <= 0"
   ]
  },
  {
   "cell_type": "markdown",
   "metadata": {},
   "source": [
    "Constraint 3: Resident must be available"
   ]
  },
  {
   "cell_type": "code",
   "execution_count": 370,
   "metadata": {},
   "outputs": [],
   "source": [
    "for r in residents:\n",
    "    for d in days:\n",
    "        for s in shifts:\n",
    "            problem5 += x[r][d][s] <= availability_matrix_2[r][d][s]"
   ]
  },
  {
   "cell_type": "markdown",
   "metadata": {},
   "source": [
    "Constraint 4: Minimum of 2, maximum of 3 work hours per week, per resident"
   ]
  },
  {
   "cell_type": "code",
   "execution_count": 371,
   "metadata": {},
   "outputs": [],
   "source": [
    "for r in residents:\n",
    "    problem5 += pulp.lpSum(x[r][d][s] for d in days for s in shifts) + pulp.lpSum(x[r][d][2] for d in days) >= 2\n",
    "    problem5 += pulp.lpSum(x[r][d][s] for d in days for s in shifts) + pulp.lpSum(x[r][d][2] for d in days) <= 3"
   ]
  },
  {
   "cell_type": "markdown",
   "metadata": {},
   "source": [
    "Constraint 4: \n",
    "\n",
    "- 2-3 residents per lunch prep, lunch clean, dinner prep\n",
    "- 3-4 residents per dinner clean\n",
    "- 2-4 residents on food truck"
   ]
  },
  {
   "cell_type": "code",
   "execution_count": 372,
   "metadata": {},
   "outputs": [],
   "source": [
    "for d,s in lunch_preps: \n",
    "    problem5 += pulp.lpSum(x[r][d][s] for r in residents) >= 2\n",
    "    problem5 += pulp.lpSum(x[r][d][s] for r in residents) <= 3\n",
    "for d,s in lunch_cleans:\n",
    "    problem5 += pulp.lpSum(x[r][d][s] for r in residents) >= 2\n",
    "    problem5 += pulp.lpSum(x[r][d][s] for r in residents) <= 3\n",
    "for d,s in dinner_preps:\n",
    "    problem5 += pulp.lpSum(x[r][d][s] for r in residents) >= 2\n",
    "    problem5 += pulp.lpSum(x[r][d][s] for r in residents) <= 3\n",
    "for d,s in dinner_cleans: \n",
    "    problem5 += pulp.lpSum(x[r][d][s] for r in residents) >= 3\n",
    "    problem5 += pulp.lpSum(x[r][d][s] for r in residents) <= 4\n",
    "problem5 += pulp.lpSum(x[r][4][4] for r in residents) >= 2\n",
    "problem5 += pulp.lpSum(x[r][4][4] for r in residents) <= 4\n",
    "for d,s in non_shifts: problem5 += v[d][s] == 0"
   ]
  },
  {
   "cell_type": "markdown",
   "metadata": {},
   "source": [
    "Constraint 5: Non-preferred shift count set to 1 (maximum)"
   ]
  },
  {
   "cell_type": "code",
   "execution_count": 373,
   "metadata": {},
   "outputs": [],
   "source": [
    "problem5 += pulp.lpSum(preference_matrix_2[r][d][s]*x[r][d][s] for r in residents for d in days for s in shifts) <= 1"
   ]
  },
  {
   "cell_type": "markdown",
   "metadata": {},
   "source": [
    "Constraint 6: Overflow constant set to 0 (maximum)"
   ]
  },
  {
   "cell_type": "code",
   "execution_count": 379,
   "metadata": {},
   "outputs": [],
   "source": [
    "problem5 += 1*pulp.lpSum(v[d][1] for d in days)     \\\n",
    "        + 10*pulp.lpSum(v[d][3] for d in days)      \\\n",
    "        + 100*pulp.lpSum(v[d][4] for d in days)     \\\n",
    "        + 1000*pulp.lpSum(v[d][0] for d in days)    \\\n",
    "        + 10000*pulp.lpSum(v[d][2] for d in days) <= 0"
   ]
  },
  {
   "cell_type": "markdown",
   "metadata": {},
   "source": [
    "__Solve__"
   ]
  },
  {
   "cell_type": "code",
   "execution_count": 375,
   "metadata": {},
   "outputs": [
    {
     "name": "stdout",
     "output_type": "stream",
     "text": [
      "1\n"
     ]
    }
   ],
   "source": [
    "problem5.solve()\n",
    "print(problem5.status)"
   ]
  },
  {
   "cell_type": "markdown",
   "metadata": {},
   "source": [
    "__Feedback__"
   ]
  },
  {
   "cell_type": "code",
   "execution_count": 377,
   "metadata": {},
   "outputs": [],
   "source": [
    "shift_schedule, rezzie_schedule, objective = analyze2(problem5, x, v, availability_matrix_2, preference_matrix_2, shifts_ordered, resident_ids)"
   ]
  },
  {
   "cell_type": "code",
   "execution_count": 378,
   "metadata": {},
   "outputs": [
    {
     "data": {
      "text/plain": [
       "91.0"
      ]
     },
     "execution_count": 378,
     "metadata": {},
     "output_type": "execute_result"
    }
   ],
   "source": [
    "objective"
   ]
  },
  {
   "cell_type": "markdown",
   "metadata": {},
   "source": [
    "In this model formulation, the following were my priorities:\n",
    "\n",
    "1. Feasible model (See Models 1,2)\n",
    "    * 2-3 hours worked per rezzie\n",
    "    * 2-4 rezzies per shift\n",
    "2. Model with minimized non-prefered shifts assigned\n",
    "    * achieved schedule with at most 1 non-preferred shift -- set as constant\n",
    "3. Model that minimized shift overflow, and assigned it appropriately\n",
    "    * 2-3 rezzies per lunch prep, lunch clean, dinner prep\n",
    "    * 3-4 rezies per dinner clean\n",
    "    * 2-4 rezzies per food truck\n",
    "    * achieved schedule with 0 shifts with overflow (the tradeoff is that some rezzies only have 2 hours, other have 3 of shifts) -- set as constant\n",
    "4. Model that maximized cooking ability\n",
    "    * achieved objective of 91; over 11 cooking shifts, 22 resident-shifts in total, comes out to an average cooking ability of 4.136 per resident-shift\n",
    "    * overflow constant, non-preferred shift constant both adjustable depending on how high we want average combined cooking ability to be\n"
   ]
  },
  {
   "cell_type": "code",
   "execution_count": null,
   "metadata": {},
   "outputs": [],
   "source": []
  }
 ],
 "metadata": {
  "kernelspec": {
   "display_name": "Python 3 (ipykernel)",
   "language": "python",
   "name": "python3"
  },
  "language_info": {
   "codemirror_mode": {
    "name": "ipython",
    "version": 3
   },
   "file_extension": ".py",
   "mimetype": "text/x-python",
   "name": "python",
   "nbconvert_exporter": "python",
   "pygments_lexer": "ipython3",
   "version": "3.12.10"
  }
 },
 "nbformat": 4,
 "nbformat_minor": 4
}
